{
 "cells": [
  {
   "cell_type": "code",
   "execution_count": 13,
   "metadata": {
    "collapsed": true
   },
   "outputs": [],
   "source": [
    "import pandas as pd\n",
    "import os"
   ]
  },
  {
   "cell_type": "code",
   "execution_count": 14,
   "metadata": {
    "collapsed": true
   },
   "outputs": [],
   "source": [
    "path_to_source_files = 'D:/names/'"
   ]
  },
  {
   "cell_type": "markdown",
   "metadata": {},
   "source": [
    "Задача №1\n",
    "\n",
    "С использованием Pandas написать функцию, которая загружает указанные года и выводит ТОП-3 популярных имен. "
   ]
  },
  {
   "cell_type": "code",
   "execution_count": 85,
   "metadata": {
    "scrolled": true
   },
   "outputs": [
    {
     "name": "stdout",
     "output_type": "stream",
     "text": [
      "['Jacob', 'Michael', 'Joshua']\n"
     ]
    }
   ],
   "source": [
    "def count_top3(*args):\n",
    "    names_by_year = {}\n",
    "    for year in args:\n",
    "        source_file = os.path.join(path_to_source_files, 'yob{}.txt'.format(year))\n",
    "        names_by_year[year] = pd.read_csv(\n",
    "        source_file, names=['Name','Gender','Count'])\n",
    "        \n",
    "    names_all = pd.concat(names_by_year)\n",
    "    names_sorted = names_all.groupby(['Name'], as_index=False).sum().sort_values(by=['Count'], ascending=False) \n",
    "    \n",
    "    print(names_sorted.head(3)['Name'].tolist())\n",
    "\n",
    "count_top3(2000, 2001, 2002, 2003) "
   ]
  },
  {
   "cell_type": "markdown",
   "metadata": {},
   "source": [
    "Задача №2\n",
    "\n",
    "С использованием Pandas написать функцию, которая возвращает динамику изменения количества имен за указанные года в разрезе полов."
   ]
  },
  {
   "cell_type": "code",
   "execution_count": 88,
   "metadata": {},
   "outputs": [
    {
     "name": "stdout",
     "output_type": "stream",
     "text": [
      "{'F': [1814922, 1799416, 1795556], 'M': [1962744, 1941595, 1940095]}\n"
     ]
    }
   ],
   "source": [
    "def count_dynamics(*args):\n",
    "    names_by_year = {}\n",
    "    for year in args:\n",
    "        source_file = os.path.join(path_to_source_files, 'yob{}.txt'.format(year))   \n",
    "        names_by_year[year] = pd.read_csv(\n",
    "        source_file, names=['Name','Gender','Count'])\n",
    "    \n",
    "    names_all = pd.concat(names_by_year, names=['Year', 'Pos'])\n",
    "    \n",
    "    gender_dynamics = names_all.groupby([names_all.index.get_level_values(0), 'Gender']).sum()\n",
    "    count_sorted_by_gender = gender_dynamics.unstack('Gender').Count.to_dict('list')\n",
    "    print(count_sorted_by_gender)\n",
    "    \n",
    "count_dynamics(2000, 2001, 2002)\n",
    "    "
   ]
  },
  {
   "cell_type": "code",
   "execution_count": null,
   "metadata": {
    "collapsed": true
   },
   "outputs": [],
   "source": []
  }
 ],
 "metadata": {
  "kernelspec": {
   "display_name": "Python 3",
   "language": "python",
   "name": "python3"
  },
  "language_info": {
   "codemirror_mode": {
    "name": "ipython",
    "version": 3
   },
   "file_extension": ".py",
   "mimetype": "text/x-python",
   "name": "python",
   "nbconvert_exporter": "python",
   "pygments_lexer": "ipython3",
   "version": "3.6.1"
  }
 },
 "nbformat": 4,
 "nbformat_minor": 2
}
